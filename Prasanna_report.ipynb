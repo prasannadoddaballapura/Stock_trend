{
 "cells": [
  {
   "attachments": {},
   "cell_type": "markdown",
   "metadata": {},
   "source": [
    "# Data Description\n",
    "There are many ways to describe data, but most descriptions focus on the quantity and quality of the data--how much data is available and the condition of the data. Listed below are some key characteristics that we have addressed when describing data.\n",
    "\n",
    "• Amount of data : For most modeling techniques, there are trade-offs associated with data size. Large data sets can produce more accurate models, but they can also lengthen the processing time. we have considered a subset of data that we had. We have created a subset of the data based on the number of companies orinally dataset had more then 550 companies related data from this we have only considered arond 100 companies for our analysis. For each of the 100 companies there are 3 rows related to it (each row pertanis to one row). There are 79 attributes for each company which are related their stocks and shares.\n",
    "\n",
    "• Value types : Data can take a variety of formats, such as numeric, categorical (string), or Boolean (true/false). In our dataset the most of the data is numeric, the dates can be considered as categorical data.\n",
    "\n",
    "• Coding schemes. Frequently, values in the database are representations of characteristics such as gender or product type. For example, one data set may use M and F to represent male and female, while another may use the numeric values 1 and 2. In our datset the outcome variable is given a binary value of 1 or 0. If the trend of the outcome is positive then the value is 1 if not it is 0.\n",
    "\n",
    "• What is the format of the data?\n",
    "\n",
    "The data is in an simple to use comma seperated value format.\n",
    "\n",
    "• Does the data include characteristics relevant to the business question?\n",
    "\n",
    "Yes, All the data in the dataset is related to the stock price of the company which makes it important to determine the trend of the stock price or even to predict the stock price.\n",
    "\n",
    "• The data includes the following :\n",
    "Daily stock prices from 2010 to 2015\n",
    "Form 10-K filing (an annual report)\n",
    "\n"
   ]
  },
  {
   "cell_type": "markdown",
   "metadata": {},
   "source": [
    "# Exploratory Data Analysis\n",
    " \n",
    " we have created 4 new variables from the available, these varables will help us in our analysis. The 4 new features are Before average, After averag, Effect of filing and the binary Outcome variable.\n",
    " \n",
    "The Before average, After average are two aggregated values\n",
    "\n",
    "The Before Average value is the average of the stock closing price 10 days before the 10-k report was filed. \n",
    "The After Average value is the average of the stock closing price 10 days after the 10-k report was filed. \n",
    "\n",
    "The Effect of filing is the numerical difference between the Before Average and After Average variables. It signifies the the effect the 10-k filing on the stock price.\n",
    "\n",
    "The binary outcome variable if the indicator variable for us to know if the stock is having a positive trend or negative trend after the 10-k has been filed. It is 1 if the 10-k has a positive effect on the average closing price of the stock for the next 10 working days or 0 if the 10-k has a negative trend on the average closing stock price for the next 10 days after the 10-k has been filed.\n",
    "We had to construct the outcome variable as it was suitable to be used to train the classification models.\n",
    "\n",
    "\n"
   ]
  }
 ],
 "metadata": {
  "kernelspec": {
   "display_name": "Python 3",
   "language": "python",
   "name": "python3"
  },
  "language_info": {
   "codemirror_mode": {
    "name": "ipython",
    "version": 3
   },
   "file_extension": ".py",
   "mimetype": "text/x-python",
   "name": "python",
   "nbconvert_exporter": "python",
   "pygments_lexer": "ipython3",
   "version": "3.7.1"
  }
 },
 "nbformat": 4,
 "nbformat_minor": 2
}
